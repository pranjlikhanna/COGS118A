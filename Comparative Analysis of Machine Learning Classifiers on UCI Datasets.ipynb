{
 "cells": [
  {
   "cell_type": "markdown",
   "id": "05ac182e",
   "metadata": {},
   "source": [
    "# Final Project"
   ]
  },
  {
   "attachments": {},
   "cell_type": "markdown",
   "id": "8c3ac41c",
   "metadata": {},
   "source": [
    "### Comparative Analysis of Machine Learning Classifiers on UCI Datasets"
   ]
  },
  {
   "attachments": {},
   "cell_type": "markdown",
   "id": "9b229742",
   "metadata": {},
   "source": [
    "This study conducts a comprehensive analysis of three popular machine learning classifiers - Logistic Regression, SVM, and Random Forests- on three datasets from the UCI repository: Adult, German Credit, and Breast Cancer Wisconsin Diagnostic. Employing cross-validation techniques, we identify optimal hyperparameters for each classifier and dataset combination. Our findings offer insights into the classifiers' performance, measured by accuracy across varying data partitions. The results demonstrate notable trends in classifier effectiveness, with implications for practical applications in predictive modeling."
   ]
  },
  {
   "cell_type": "markdown",
   "id": "9fb6440b",
   "metadata": {},
   "source": [
    "## Adult Dataset"
   ]
  },
  {
   "attachments": {},
   "cell_type": "markdown",
   "id": "12ff3c9f",
   "metadata": {},
   "source": [
    "This dataset, also known as the \"Census Income\" dataset, contains demographic information extracted from the 1994 Census database. It poses a binary classification problem where the task is to predict whether an individual earns more than $50,000 a year. The dataset is characterized by a mixture of continuous and categorical variables, including age, education, occupation, and hours per week."
   ]
  },
  {
   "cell_type": "code",
   "execution_count": 1,
   "id": "6724c3f0",
   "metadata": {},
   "outputs": [],
   "source": [
    "import pandas as pd\n",
    "import numpy as np\n",
    "from sklearn.preprocessing import StandardScaler\n",
    "from sklearn.model_selection import train_test_split, GridSearchCV\n",
    "from sklearn.linear_model import LogisticRegression\n",
    "from sklearn.svm import SVC\n",
    "from sklearn.ensemble import RandomForestClassifier\n",
    "from sklearn.metrics import accuracy_score"
   ]
  },
  {
   "cell_type": "code",
   "execution_count": 2,
   "id": "c97b306f",
   "metadata": {},
   "outputs": [],
   "source": [
    "url = \"http://archive.ics.uci.edu/ml/machine-learning-databases/adult/adult.data\"\n",
    "columns = [\"age\", \"workclass\", \"fnlwgt\", \"education\", \"education_num\", \"marital_status\",\n",
    "           \"occupation\", \"relationship\", \"race\", \"sex\", \"capital_gain\", \"capital_loss\",\n",
    "           \"hours_per_week\", \"native_country\", \"income\"]\n",
    "adult_data = pd.read_csv(url, header=None, names=columns, na_values=' ?')"
   ]
  },
  {
   "cell_type": "code",
   "execution_count": 3,
   "id": "d3f0fb94",
   "metadata": {
    "scrolled": true
   },
   "outputs": [
    {
     "name": "stdout",
     "output_type": "stream",
     "text": [
      "   age          workclass  fnlwgt   education  education_num  \\\n",
      "0   39          State-gov   77516   Bachelors             13   \n",
      "1   50   Self-emp-not-inc   83311   Bachelors             13   \n",
      "2   38            Private  215646     HS-grad              9   \n",
      "3   53            Private  234721        11th              7   \n",
      "4   28            Private  338409   Bachelors             13   \n",
      "\n",
      "        marital_status          occupation    relationship    race      sex  \\\n",
      "0        Never-married        Adm-clerical   Not-in-family   White     Male   \n",
      "1   Married-civ-spouse     Exec-managerial         Husband   White     Male   \n",
      "2             Divorced   Handlers-cleaners   Not-in-family   White     Male   \n",
      "3   Married-civ-spouse   Handlers-cleaners         Husband   Black     Male   \n",
      "4   Married-civ-spouse      Prof-specialty            Wife   Black   Female   \n",
      "\n",
      "   capital_gain  capital_loss  hours_per_week  native_country  income  \n",
      "0          2174             0              40   United-States   <=50K  \n",
      "1             0             0              13   United-States   <=50K  \n",
      "2             0             0              40   United-States   <=50K  \n",
      "3             0             0              40   United-States   <=50K  \n",
      "4             0             0              40            Cuba   <=50K  \n"
     ]
    }
   ],
   "source": [
    "print(adult_data.head())"
   ]
  },
  {
   "cell_type": "code",
   "execution_count": 4,
   "id": "7687f977",
   "metadata": {},
   "outputs": [
    {
     "name": "stdout",
     "output_type": "stream",
     "text": [
      "[' <=50K' ' >50K']\n"
     ]
    }
   ],
   "source": [
    "print(adult_data['income'].unique())"
   ]
  },
  {
   "cell_type": "code",
   "execution_count": 5,
   "id": "7299921f",
   "metadata": {},
   "outputs": [],
   "source": [
    "# Handle missing values\n",
    "adult_data = adult_data.dropna()\n",
    "\n",
    "adult_data['income'] = adult_data['income'].apply(lambda x: x.strip()).map({'>50K': 1, '<=50K': 0})\n",
    "adult_data = pd.get_dummies(adult_data, drop_first=True)"
   ]
  },
  {
   "cell_type": "code",
   "execution_count": 6,
   "id": "d9446da9",
   "metadata": {},
   "outputs": [],
   "source": [
    "scaler = StandardScaler()\n",
    "numerical_cols = ['age', 'fnlwgt', 'education_num', 'capital_gain', 'capital_loss', 'hours_per_week']\n",
    "adult_data[numerical_cols] = scaler.fit_transform(adult_data[numerical_cols])"
   ]
  },
  {
   "cell_type": "code",
   "execution_count": 7,
   "id": "4a9913d1",
   "metadata": {},
   "outputs": [],
   "source": [
    "X_ad = adult_data.drop('income', axis=1)\n",
    "y_ad = adult_data['income']"
   ]
  },
  {
   "cell_type": "code",
   "execution_count": 8,
   "id": "1db4b760",
   "metadata": {},
   "outputs": [],
   "source": [
    "X_ad_train_2080, X_ad_test_2080, y_ad_train_2080, y_ad_test_2080 = train_test_split(X_ad, y_ad, test_size=0.80, random_state=42)\n",
    "X_ad_train_5050, X_ad_test_5050, y_ad_train_5050, y_ad_test_5050 = train_test_split(X_ad, y_ad, test_size=0.50, random_state=42)\n",
    "X_ad_train_8020, X_ad_test_8020, y_ad_train_8020, y_ad_test_8020 = train_test_split(X_ad, y_ad, test_size=0.20, random_state=42)"
   ]
  },
  {
   "cell_type": "code",
   "execution_count": 9,
   "id": "ff53151c",
   "metadata": {},
   "outputs": [],
   "source": [
    "# Define the parameter range for 'C'\n",
    "param_range = [0.001, 0.01, 0.1, 1, 10, 100]"
   ]
  },
  {
   "cell_type": "code",
   "execution_count": 10,
   "id": "8e7af608",
   "metadata": {},
   "outputs": [],
   "source": [
    "# Initialize classifiers and parameter grid\n",
    "log_reg = LogisticRegression(solver='liblinear', class_weight='balanced')\n",
    "svm = SVC()\n",
    "rf = RandomForestClassifier(n_estimators=100)  # Example parameter\n",
    "param_grid = {'C': param_range}"
   ]
  },
  {
   "cell_type": "code",
   "execution_count": 11,
   "id": "d9ea7322",
   "metadata": {},
   "outputs": [],
   "source": [
    "# Dictionary to store results\n",
    "results = {}"
   ]
  },
  {
   "cell_type": "markdown",
   "id": "cc60db9c",
   "metadata": {},
   "source": [
    "### For 20/80 Partition"
   ]
  },
  {
   "cell_type": "code",
   "execution_count": 12,
   "id": "15ff0249",
   "metadata": {},
   "outputs": [],
   "source": [
    "# Logistic Regression with GridSearchCV\n",
    "grid_lr_2080 = GridSearchCV(log_reg, {'C': param_range}, cv=3, scoring='accuracy')\n",
    "grid_lr_2080.fit(X_ad_train_2080, y_ad_train_2080)\n",
    "best_lr_score_2080 = grid_lr_2080.best_score_"
   ]
  },
  {
   "cell_type": "code",
   "execution_count": 13,
   "id": "9678330d",
   "metadata": {},
   "outputs": [],
   "source": [
    "# SVM with GridSearchCV\n",
    "grid_svm_2080 = GridSearchCV(svm, param_grid, cv=3, scoring='accuracy')\n",
    "grid_svm_2080.fit(X_ad_train_2080, y_ad_train_2080)\n",
    "best_svm_score_2080 = grid_svm_2080.best_score_"
   ]
  },
  {
   "cell_type": "code",
   "execution_count": 14,
   "id": "adcdfb59",
   "metadata": {},
   "outputs": [],
   "source": [
    "# RandomForestClassifier\n",
    "rf.fit(X_ad_train_2080, y_ad_train_2080)\n",
    "rf_accuracy_2080 = accuracy_score(y_ad_test_2080, rf.predict(X_ad_test_2080))"
   ]
  },
  {
   "cell_type": "code",
   "execution_count": 15,
   "id": "e753ace0",
   "metadata": {},
   "outputs": [],
   "source": [
    "# Store results for 20/80 partition\n",
    "results_2080 = {\n",
    "    'Logistic Regression': best_lr_score_2080,\n",
    "    'SVM': best_svm_score_2080,\n",
    "    'Random Forest': rf_accuracy_2080\n",
    "}"
   ]
  },
  {
   "cell_type": "code",
   "execution_count": 16,
   "id": "9357823a",
   "metadata": {},
   "outputs": [
    {
     "name": "stdout",
     "output_type": "stream",
     "text": [
      "For 20/80\n",
      "logistic regression accuracy:  0.8028843846406951\n",
      "SVM accuracy:  0.8456562702812804\n",
      "Random Forest accuracy:  0.8495234148363033\n"
     ]
    }
   ],
   "source": [
    "print (\"For 20/80\")\n",
    "print (\"logistic regression accuracy: \",best_lr_score_2080)\n",
    "print (\"SVM accuracy: \",best_svm_score_2080)\n",
    "print (\"Random Forest accuracy: \",rf_accuracy_2080)"
   ]
  },
  {
   "cell_type": "markdown",
   "id": "c114c8d2",
   "metadata": {},
   "source": [
    "### 50/50 partition"
   ]
  },
  {
   "cell_type": "code",
   "execution_count": 17,
   "id": "1bf9b57c",
   "metadata": {},
   "outputs": [],
   "source": [
    "# Logistic Regression with GridSearchCV\n",
    "grid_lr_5050 = GridSearchCV(log_reg, {'C': param_range}, cv=3, scoring='accuracy')\n",
    "grid_lr_5050.fit(X_ad_train_5050, y_ad_train_5050)\n",
    "best_lr_score_5050 = grid_lr_5050.best_score_"
   ]
  },
  {
   "cell_type": "code",
   "execution_count": 18,
   "id": "01a1fed2",
   "metadata": {},
   "outputs": [],
   "source": [
    "# SVM with GridSearchCV\n",
    "grid_svm_5050 = GridSearchCV(svm, param_grid, cv=3, scoring='accuracy')\n",
    "grid_svm_5050.fit(X_ad_train_5050, y_ad_train_5050)\n",
    "best_svm_score_5050 = grid_svm_5050.best_score_"
   ]
  },
  {
   "cell_type": "code",
   "execution_count": 19,
   "id": "bfe6cbc6",
   "metadata": {},
   "outputs": [],
   "source": [
    "# RandomForestClassifier\n",
    "rf.fit(X_ad_train_5050, y_ad_train_5050)\n",
    "rf_accuracy_5050 = accuracy_score(y_ad_test_5050, rf.predict(X_ad_test_5050))"
   ]
  },
  {
   "cell_type": "code",
   "execution_count": 20,
   "id": "b78abf00",
   "metadata": {},
   "outputs": [],
   "source": [
    "# Store results for 20/80 partition\n",
    "results_5050 = {\n",
    "    'Logistic Regression': best_lr_score_5050,\n",
    "    'SVM': best_svm_score_5050,\n",
    "    'Random Forest': rf_accuracy_5050\n",
    "}"
   ]
  },
  {
   "cell_type": "code",
   "execution_count": 21,
   "id": "aa206ace",
   "metadata": {},
   "outputs": [
    {
     "name": "stdout",
     "output_type": "stream",
     "text": [
      "For 50/50\n",
      "logistic regression accuracy:  0.8047874809362775\n",
      "SVM accuracy:  0.8488827000862011\n",
      "Random Forest accuracy:  0.8496120946886812\n"
     ]
    }
   ],
   "source": [
    "print (\"For 50/50\")\n",
    "print (\"logistic regression accuracy: \",best_lr_score_5050)\n",
    "print (\"SVM accuracy: \",best_svm_score_5050)\n",
    "print (\"Random Forest accuracy: \",rf_accuracy_5050)"
   ]
  },
  {
   "cell_type": "markdown",
   "id": "2671567a",
   "metadata": {},
   "source": [
    "### for 80/20 partition"
   ]
  },
  {
   "cell_type": "code",
   "execution_count": 22,
   "id": "4920a9ae",
   "metadata": {},
   "outputs": [],
   "source": [
    "# Logistic Regression with GridSearchCV\n",
    "grid_lr_8020 = GridSearchCV(log_reg, {'C': param_range}, cv=3, scoring='accuracy')\n",
    "grid_lr_8020.fit(X_ad_train_8020, y_ad_train_8020)\n",
    "best_lr_score_8020 = grid_lr_8020.best_score_"
   ]
  },
  {
   "cell_type": "code",
   "execution_count": 23,
   "id": "0a91759c",
   "metadata": {},
   "outputs": [],
   "source": [
    "# SVM with GridSearchCV\n",
    "grid_svm_8020 = GridSearchCV(svm, param_grid, cv=3, scoring='accuracy')\n",
    "grid_svm_8020.fit(X_ad_train_8020, y_ad_train_8020)\n",
    "best_svm_score_8020 = grid_svm_8020.best_score_"
   ]
  },
  {
   "cell_type": "code",
   "execution_count": 24,
   "id": "cc8237f9",
   "metadata": {},
   "outputs": [],
   "source": [
    "# RandomForestClassifier\n",
    "rf.fit(X_ad_train_8020, y_ad_train_8020)\n",
    "rf_accuracy_8020 = accuracy_score(y_ad_test_8020, rf.predict(X_ad_test_8020))"
   ]
  },
  {
   "cell_type": "code",
   "execution_count": 25,
   "id": "1ee791b7",
   "metadata": {},
   "outputs": [],
   "source": [
    "# Store results for 80/20 partition\n",
    "results_8020 = {\n",
    "    'Logistic Regression': best_lr_score_8020,\n",
    "    'SVM': best_svm_score_8020,\n",
    "    'Random Forest': rf_accuracy_8020\n",
    "}"
   ]
  },
  {
   "cell_type": "code",
   "execution_count": 26,
   "id": "1e731c84",
   "metadata": {},
   "outputs": [
    {
     "name": "stdout",
     "output_type": "stream",
     "text": [
      "For 80/20\n",
      "logistic regression accuracy:  0.8082804923535994\n",
      "SVM accuracy:  0.8496000663102491\n",
      "Random Forest accuracy:  0.8511519973479198\n"
     ]
    }
   ],
   "source": [
    "print (\"For 80/20\")\n",
    "print (\"logistic regression accuracy: \",best_lr_score_8020)\n",
    "print (\"SVM accuracy: \",best_svm_score_8020)\n",
    "print (\"Random Forest accuracy: \",rf_accuracy_8020)"
   ]
  },
  {
   "cell_type": "code",
   "execution_count": 27,
   "id": "f66ef444",
   "metadata": {},
   "outputs": [],
   "source": [
    "# Define results for the adult dataset\n",
    "results_8020_adult = {\n",
    "    'Logistic Regression': best_lr_score_8020,\n",
    "    'SVM': best_svm_score_8020,\n",
    "    'Random Forest': rf_accuracy_8020\n",
    "}\n",
    "\n",
    "results_5050_adult = {\n",
    "    'Logistic Regression': best_lr_score_5050,\n",
    "    'SVM': best_svm_score_5050,\n",
    "    'Random Forest': rf_accuracy_5050\n",
    "}\n",
    "\n",
    "results_2080_adult = {\n",
    "    'Logistic Regression': best_lr_score_2080,\n",
    "    'SVM': best_svm_score_2080,\n",
    "    'Random Forest': rf_accuracy_2080\n",
    "}"
   ]
  },
  {
   "cell_type": "markdown",
   "id": "1d1f4db8",
   "metadata": {},
   "source": [
    "## German Credit Dataset"
   ]
  },
  {
   "attachments": {},
   "cell_type": "markdown",
   "id": "d5e132e2",
   "metadata": {},
   "source": [
    "The German Credit dataset presents data on individuals' credit risk from a German bank. Each entry represents a person described by a set of attributes, such as credit history, employment duration, and purpose of the loan. The target variable is binary, indicating high or low credit risk. The challenge with this dataset lies in its imbalanced nature and the presence of qualitative, subjective measures."
   ]
  },
  {
   "cell_type": "code",
   "execution_count": 28,
   "id": "a852c228",
   "metadata": {},
   "outputs": [],
   "source": [
    "# Load the dataset\n",
    "url = \"http://archive.ics.uci.edu/ml/machine-learning-databases/statlog/german/german.data\"\n",
    "columns = [\"existing_account\", \"duration_month\", \"credit_history\", \"purpose\", \"credit_amount\", \"savings_account\",\n",
    "           \"present_employment\", \"installment_rate\", \"personal_status_sex\", \"other_debtors\", \"present_residence\",\n",
    "           \"property\", \"age\", \"other_installment_plans\", \"housing\", \"number_credits\", \"job\", \"people_liable\", \"telephone\",\n",
    "           \"foreign_worker\", \"credit_risk\"]\n",
    "\n",
    "german_data = pd.read_csv(url, sep=\" \", header=None, names=columns)"
   ]
  },
  {
   "cell_type": "code",
   "execution_count": 29,
   "id": "a8742d96",
   "metadata": {},
   "outputs": [
    {
     "data": {
      "text/html": [
       "<div>\n",
       "<style scoped>\n",
       "    .dataframe tbody tr th:only-of-type {\n",
       "        vertical-align: middle;\n",
       "    }\n",
       "\n",
       "    .dataframe tbody tr th {\n",
       "        vertical-align: top;\n",
       "    }\n",
       "\n",
       "    .dataframe thead th {\n",
       "        text-align: right;\n",
       "    }\n",
       "</style>\n",
       "<table border=\"1\" class=\"dataframe\">\n",
       "  <thead>\n",
       "    <tr style=\"text-align: right;\">\n",
       "      <th></th>\n",
       "      <th>existing_account</th>\n",
       "      <th>duration_month</th>\n",
       "      <th>credit_history</th>\n",
       "      <th>purpose</th>\n",
       "      <th>credit_amount</th>\n",
       "      <th>savings_account</th>\n",
       "      <th>present_employment</th>\n",
       "      <th>installment_rate</th>\n",
       "      <th>personal_status_sex</th>\n",
       "      <th>other_debtors</th>\n",
       "      <th>...</th>\n",
       "      <th>property</th>\n",
       "      <th>age</th>\n",
       "      <th>other_installment_plans</th>\n",
       "      <th>housing</th>\n",
       "      <th>number_credits</th>\n",
       "      <th>job</th>\n",
       "      <th>people_liable</th>\n",
       "      <th>telephone</th>\n",
       "      <th>foreign_worker</th>\n",
       "      <th>credit_risk</th>\n",
       "    </tr>\n",
       "  </thead>\n",
       "  <tbody>\n",
       "    <tr>\n",
       "      <th>0</th>\n",
       "      <td>A11</td>\n",
       "      <td>6</td>\n",
       "      <td>A34</td>\n",
       "      <td>A43</td>\n",
       "      <td>1169</td>\n",
       "      <td>A65</td>\n",
       "      <td>A75</td>\n",
       "      <td>4</td>\n",
       "      <td>A93</td>\n",
       "      <td>A101</td>\n",
       "      <td>...</td>\n",
       "      <td>A121</td>\n",
       "      <td>67</td>\n",
       "      <td>A143</td>\n",
       "      <td>A152</td>\n",
       "      <td>2</td>\n",
       "      <td>A173</td>\n",
       "      <td>1</td>\n",
       "      <td>A192</td>\n",
       "      <td>A201</td>\n",
       "      <td>1</td>\n",
       "    </tr>\n",
       "    <tr>\n",
       "      <th>1</th>\n",
       "      <td>A12</td>\n",
       "      <td>48</td>\n",
       "      <td>A32</td>\n",
       "      <td>A43</td>\n",
       "      <td>5951</td>\n",
       "      <td>A61</td>\n",
       "      <td>A73</td>\n",
       "      <td>2</td>\n",
       "      <td>A92</td>\n",
       "      <td>A101</td>\n",
       "      <td>...</td>\n",
       "      <td>A121</td>\n",
       "      <td>22</td>\n",
       "      <td>A143</td>\n",
       "      <td>A152</td>\n",
       "      <td>1</td>\n",
       "      <td>A173</td>\n",
       "      <td>1</td>\n",
       "      <td>A191</td>\n",
       "      <td>A201</td>\n",
       "      <td>2</td>\n",
       "    </tr>\n",
       "    <tr>\n",
       "      <th>2</th>\n",
       "      <td>A14</td>\n",
       "      <td>12</td>\n",
       "      <td>A34</td>\n",
       "      <td>A46</td>\n",
       "      <td>2096</td>\n",
       "      <td>A61</td>\n",
       "      <td>A74</td>\n",
       "      <td>2</td>\n",
       "      <td>A93</td>\n",
       "      <td>A101</td>\n",
       "      <td>...</td>\n",
       "      <td>A121</td>\n",
       "      <td>49</td>\n",
       "      <td>A143</td>\n",
       "      <td>A152</td>\n",
       "      <td>1</td>\n",
       "      <td>A172</td>\n",
       "      <td>2</td>\n",
       "      <td>A191</td>\n",
       "      <td>A201</td>\n",
       "      <td>1</td>\n",
       "    </tr>\n",
       "    <tr>\n",
       "      <th>3</th>\n",
       "      <td>A11</td>\n",
       "      <td>42</td>\n",
       "      <td>A32</td>\n",
       "      <td>A42</td>\n",
       "      <td>7882</td>\n",
       "      <td>A61</td>\n",
       "      <td>A74</td>\n",
       "      <td>2</td>\n",
       "      <td>A93</td>\n",
       "      <td>A103</td>\n",
       "      <td>...</td>\n",
       "      <td>A122</td>\n",
       "      <td>45</td>\n",
       "      <td>A143</td>\n",
       "      <td>A153</td>\n",
       "      <td>1</td>\n",
       "      <td>A173</td>\n",
       "      <td>2</td>\n",
       "      <td>A191</td>\n",
       "      <td>A201</td>\n",
       "      <td>1</td>\n",
       "    </tr>\n",
       "    <tr>\n",
       "      <th>4</th>\n",
       "      <td>A11</td>\n",
       "      <td>24</td>\n",
       "      <td>A33</td>\n",
       "      <td>A40</td>\n",
       "      <td>4870</td>\n",
       "      <td>A61</td>\n",
       "      <td>A73</td>\n",
       "      <td>3</td>\n",
       "      <td>A93</td>\n",
       "      <td>A101</td>\n",
       "      <td>...</td>\n",
       "      <td>A124</td>\n",
       "      <td>53</td>\n",
       "      <td>A143</td>\n",
       "      <td>A153</td>\n",
       "      <td>2</td>\n",
       "      <td>A173</td>\n",
       "      <td>2</td>\n",
       "      <td>A191</td>\n",
       "      <td>A201</td>\n",
       "      <td>2</td>\n",
       "    </tr>\n",
       "  </tbody>\n",
       "</table>\n",
       "<p>5 rows × 21 columns</p>\n",
       "</div>"
      ],
      "text/plain": [
       "  existing_account  duration_month credit_history purpose  credit_amount  \\\n",
       "0              A11               6            A34     A43           1169   \n",
       "1              A12              48            A32     A43           5951   \n",
       "2              A14              12            A34     A46           2096   \n",
       "3              A11              42            A32     A42           7882   \n",
       "4              A11              24            A33     A40           4870   \n",
       "\n",
       "  savings_account present_employment  installment_rate personal_status_sex  \\\n",
       "0             A65                A75                 4                 A93   \n",
       "1             A61                A73                 2                 A92   \n",
       "2             A61                A74                 2                 A93   \n",
       "3             A61                A74                 2                 A93   \n",
       "4             A61                A73                 3                 A93   \n",
       "\n",
       "  other_debtors  ...  property age  other_installment_plans housing  \\\n",
       "0          A101  ...      A121  67                     A143    A152   \n",
       "1          A101  ...      A121  22                     A143    A152   \n",
       "2          A101  ...      A121  49                     A143    A152   \n",
       "3          A103  ...      A122  45                     A143    A153   \n",
       "4          A101  ...      A124  53                     A143    A153   \n",
       "\n",
       "  number_credits   job people_liable  telephone foreign_worker credit_risk  \n",
       "0              2  A173             1       A192           A201           1  \n",
       "1              1  A173             1       A191           A201           2  \n",
       "2              1  A172             2       A191           A201           1  \n",
       "3              1  A173             2       A191           A201           1  \n",
       "4              2  A173             2       A191           A201           2  \n",
       "\n",
       "[5 rows x 21 columns]"
      ]
     },
     "execution_count": 29,
     "metadata": {},
     "output_type": "execute_result"
    }
   ],
   "source": [
    "german_data.head()"
   ]
  },
  {
   "cell_type": "code",
   "execution_count": 30,
   "id": "c155ac9e",
   "metadata": {},
   "outputs": [],
   "source": [
    "german_data['credit_risk'] = german_data['credit_risk'].replace(2, 0)\n"
   ]
  },
  {
   "cell_type": "code",
   "execution_count": 31,
   "id": "8b77ceb9",
   "metadata": {},
   "outputs": [
    {
     "data": {
      "text/html": [
       "<div>\n",
       "<style scoped>\n",
       "    .dataframe tbody tr th:only-of-type {\n",
       "        vertical-align: middle;\n",
       "    }\n",
       "\n",
       "    .dataframe tbody tr th {\n",
       "        vertical-align: top;\n",
       "    }\n",
       "\n",
       "    .dataframe thead th {\n",
       "        text-align: right;\n",
       "    }\n",
       "</style>\n",
       "<table border=\"1\" class=\"dataframe\">\n",
       "  <thead>\n",
       "    <tr style=\"text-align: right;\">\n",
       "      <th></th>\n",
       "      <th>existing_account</th>\n",
       "      <th>duration_month</th>\n",
       "      <th>credit_history</th>\n",
       "      <th>purpose</th>\n",
       "      <th>credit_amount</th>\n",
       "      <th>savings_account</th>\n",
       "      <th>present_employment</th>\n",
       "      <th>installment_rate</th>\n",
       "      <th>personal_status_sex</th>\n",
       "      <th>other_debtors</th>\n",
       "      <th>...</th>\n",
       "      <th>property</th>\n",
       "      <th>age</th>\n",
       "      <th>other_installment_plans</th>\n",
       "      <th>housing</th>\n",
       "      <th>number_credits</th>\n",
       "      <th>job</th>\n",
       "      <th>people_liable</th>\n",
       "      <th>telephone</th>\n",
       "      <th>foreign_worker</th>\n",
       "      <th>credit_risk</th>\n",
       "    </tr>\n",
       "  </thead>\n",
       "  <tbody>\n",
       "    <tr>\n",
       "      <th>0</th>\n",
       "      <td>A11</td>\n",
       "      <td>6</td>\n",
       "      <td>A34</td>\n",
       "      <td>A43</td>\n",
       "      <td>1169</td>\n",
       "      <td>A65</td>\n",
       "      <td>A75</td>\n",
       "      <td>4</td>\n",
       "      <td>A93</td>\n",
       "      <td>A101</td>\n",
       "      <td>...</td>\n",
       "      <td>A121</td>\n",
       "      <td>67</td>\n",
       "      <td>A143</td>\n",
       "      <td>A152</td>\n",
       "      <td>2</td>\n",
       "      <td>A173</td>\n",
       "      <td>1</td>\n",
       "      <td>A192</td>\n",
       "      <td>A201</td>\n",
       "      <td>1</td>\n",
       "    </tr>\n",
       "    <tr>\n",
       "      <th>1</th>\n",
       "      <td>A12</td>\n",
       "      <td>48</td>\n",
       "      <td>A32</td>\n",
       "      <td>A43</td>\n",
       "      <td>5951</td>\n",
       "      <td>A61</td>\n",
       "      <td>A73</td>\n",
       "      <td>2</td>\n",
       "      <td>A92</td>\n",
       "      <td>A101</td>\n",
       "      <td>...</td>\n",
       "      <td>A121</td>\n",
       "      <td>22</td>\n",
       "      <td>A143</td>\n",
       "      <td>A152</td>\n",
       "      <td>1</td>\n",
       "      <td>A173</td>\n",
       "      <td>1</td>\n",
       "      <td>A191</td>\n",
       "      <td>A201</td>\n",
       "      <td>0</td>\n",
       "    </tr>\n",
       "    <tr>\n",
       "      <th>2</th>\n",
       "      <td>A14</td>\n",
       "      <td>12</td>\n",
       "      <td>A34</td>\n",
       "      <td>A46</td>\n",
       "      <td>2096</td>\n",
       "      <td>A61</td>\n",
       "      <td>A74</td>\n",
       "      <td>2</td>\n",
       "      <td>A93</td>\n",
       "      <td>A101</td>\n",
       "      <td>...</td>\n",
       "      <td>A121</td>\n",
       "      <td>49</td>\n",
       "      <td>A143</td>\n",
       "      <td>A152</td>\n",
       "      <td>1</td>\n",
       "      <td>A172</td>\n",
       "      <td>2</td>\n",
       "      <td>A191</td>\n",
       "      <td>A201</td>\n",
       "      <td>1</td>\n",
       "    </tr>\n",
       "    <tr>\n",
       "      <th>3</th>\n",
       "      <td>A11</td>\n",
       "      <td>42</td>\n",
       "      <td>A32</td>\n",
       "      <td>A42</td>\n",
       "      <td>7882</td>\n",
       "      <td>A61</td>\n",
       "      <td>A74</td>\n",
       "      <td>2</td>\n",
       "      <td>A93</td>\n",
       "      <td>A103</td>\n",
       "      <td>...</td>\n",
       "      <td>A122</td>\n",
       "      <td>45</td>\n",
       "      <td>A143</td>\n",
       "      <td>A153</td>\n",
       "      <td>1</td>\n",
       "      <td>A173</td>\n",
       "      <td>2</td>\n",
       "      <td>A191</td>\n",
       "      <td>A201</td>\n",
       "      <td>1</td>\n",
       "    </tr>\n",
       "    <tr>\n",
       "      <th>4</th>\n",
       "      <td>A11</td>\n",
       "      <td>24</td>\n",
       "      <td>A33</td>\n",
       "      <td>A40</td>\n",
       "      <td>4870</td>\n",
       "      <td>A61</td>\n",
       "      <td>A73</td>\n",
       "      <td>3</td>\n",
       "      <td>A93</td>\n",
       "      <td>A101</td>\n",
       "      <td>...</td>\n",
       "      <td>A124</td>\n",
       "      <td>53</td>\n",
       "      <td>A143</td>\n",
       "      <td>A153</td>\n",
       "      <td>2</td>\n",
       "      <td>A173</td>\n",
       "      <td>2</td>\n",
       "      <td>A191</td>\n",
       "      <td>A201</td>\n",
       "      <td>0</td>\n",
       "    </tr>\n",
       "  </tbody>\n",
       "</table>\n",
       "<p>5 rows × 21 columns</p>\n",
       "</div>"
      ],
      "text/plain": [
       "  existing_account  duration_month credit_history purpose  credit_amount  \\\n",
       "0              A11               6            A34     A43           1169   \n",
       "1              A12              48            A32     A43           5951   \n",
       "2              A14              12            A34     A46           2096   \n",
       "3              A11              42            A32     A42           7882   \n",
       "4              A11              24            A33     A40           4870   \n",
       "\n",
       "  savings_account present_employment  installment_rate personal_status_sex  \\\n",
       "0             A65                A75                 4                 A93   \n",
       "1             A61                A73                 2                 A92   \n",
       "2             A61                A74                 2                 A93   \n",
       "3             A61                A74                 2                 A93   \n",
       "4             A61                A73                 3                 A93   \n",
       "\n",
       "  other_debtors  ...  property age  other_installment_plans housing  \\\n",
       "0          A101  ...      A121  67                     A143    A152   \n",
       "1          A101  ...      A121  22                     A143    A152   \n",
       "2          A101  ...      A121  49                     A143    A152   \n",
       "3          A103  ...      A122  45                     A143    A153   \n",
       "4          A101  ...      A124  53                     A143    A153   \n",
       "\n",
       "  number_credits   job people_liable  telephone foreign_worker credit_risk  \n",
       "0              2  A173             1       A192           A201           1  \n",
       "1              1  A173             1       A191           A201           0  \n",
       "2              1  A172             2       A191           A201           1  \n",
       "3              1  A173             2       A191           A201           1  \n",
       "4              2  A173             2       A191           A201           0  \n",
       "\n",
       "[5 rows x 21 columns]"
      ]
     },
     "execution_count": 31,
     "metadata": {},
     "output_type": "execute_result"
    }
   ],
   "source": [
    "german_data.head()"
   ]
  },
  {
   "cell_type": "code",
   "execution_count": 32,
   "id": "bee5bbdb",
   "metadata": {},
   "outputs": [],
   "source": [
    "# Handle categorical variables using one-hot encoding\n",
    "german_data = pd.get_dummies(german_data, columns=[\"existing_account\", \"credit_history\", \"purpose\", \"savings_account\",\n",
    "                                                   \"present_employment\", \"personal_status_sex\", \"other_debtors\",\n",
    "                                                   \"property\", \"other_installment_plans\", \"housing\", \"job\",\n",
    "                                                   \"telephone\", \"foreign_worker\"],\n",
    "                             drop_first=True)"
   ]
  },
  {
   "cell_type": "code",
   "execution_count": 33,
   "id": "dfde17c1",
   "metadata": {},
   "outputs": [],
   "source": [
    "# Standardize numerical features\n",
    "scaler = StandardScaler()\n",
    "numerical_cols = [\"duration_month\", \"credit_amount\", \"installment_rate\", \"present_residence\", \"age\", \"number_credits\",\n",
    "                   \"people_liable\"]\n",
    "german_data[numerical_cols] = scaler.fit_transform(german_data[numerical_cols])"
   ]
  },
  {
   "cell_type": "code",
   "execution_count": 34,
   "id": "c7184990",
   "metadata": {},
   "outputs": [
    {
     "data": {
      "text/plain": [
       "0    1\n",
       "1    0\n",
       "2    1\n",
       "3    1\n",
       "4    0\n",
       "Name: credit_risk, dtype: int64"
      ]
     },
     "execution_count": 34,
     "metadata": {},
     "output_type": "execute_result"
    }
   ],
   "source": [
    "# Split the dataset into X (features) and y (target)\n",
    "X_credit = german_data.drop(\"credit_risk\", axis=1)\n",
    "y_credit = german_data[\"credit_risk\"]\n",
    "y_credit.head()"
   ]
  },
  {
   "cell_type": "code",
   "execution_count": 35,
   "id": "872d26e2",
   "metadata": {},
   "outputs": [],
   "source": [
    "# Split the dataset into 80/20, 50/50, and 20/80 partitions\n",
    "X_credit_train_8020, X_credit_test_8020, y_credit_train_8020, y_credit_test_8020 = train_test_split(X_credit, y_credit, test_size=0.20, random_state=42)\n",
    "X_credit_train_5050, X_credit_test_5050, y_credit_train_5050, y_credit_test_5050 = train_test_split(X_credit, y_credit, test_size=0.50, random_state=42)\n",
    "X_credit_train_2080, X_credit_test_2080, y_credit_train_2080, y_credit_test_2080 = train_test_split(X_credit, y_credit, test_size=0.80, random_state=42)"
   ]
  },
  {
   "cell_type": "code",
   "execution_count": 36,
   "id": "9e6db33c",
   "metadata": {},
   "outputs": [],
   "source": [
    "# Define the parameter range for 'C'\n",
    "param_range = [0.001, 0.01, 0.1, 1, 10, 100]\n"
   ]
  },
  {
   "cell_type": "code",
   "execution_count": 37,
   "id": "272ddcd8",
   "metadata": {},
   "outputs": [
    {
     "name": "stdout",
     "output_type": "stream",
     "text": [
      "0\n"
     ]
    }
   ],
   "source": [
    "log_reg = LogisticRegression(solver='liblinear', class_weight='balanced')\n",
    "svm = SVC()\n",
    "rf = RandomForestClassifier(n_estimators=100)  # Example parameter\n",
    "param_grid = {'C': param_range}\n",
    "print(y_credit_train_8020.isnull().sum())"
   ]
  },
  {
   "cell_type": "code",
   "execution_count": 38,
   "id": "29d117ab",
   "metadata": {},
   "outputs": [
    {
     "name": "stdout",
     "output_type": "stream",
     "text": [
      "0\n"
     ]
    }
   ],
   "source": [
    "print(y_credit_train_8020.isnull().sum())"
   ]
  },
  {
   "cell_type": "code",
   "execution_count": 39,
   "id": "4d783e47",
   "metadata": {},
   "outputs": [],
   "source": [
    "# Dictionary to store results\n",
    "results = {}"
   ]
  },
  {
   "cell_type": "code",
   "execution_count": 40,
   "id": "41ecd429",
   "metadata": {},
   "outputs": [],
   "source": [
    "# For 80/20 Partition\n",
    "# Logistic Regression with GridSearchCV\n",
    "grid_lr_8020 = GridSearchCV(log_reg, {'C': param_range}, cv=3, scoring='accuracy')\n",
    "grid_lr_8020.fit(X_credit_train_8020, y_credit_train_8020)\n",
    "best_lr_score_8020 = grid_lr_8020.best_score_\n",
    "\n",
    "# SVM with GridSearchCV\n",
    "grid_svm_8020 = GridSearchCV(svm, param_grid, cv=3, scoring='accuracy')\n",
    "grid_svm_8020.fit(X_credit_train_8020, y_credit_train_8020)\n",
    "best_svm_score_8020 = grid_svm_8020.best_score_\n",
    "\n",
    "# RandomForestClassifier\n",
    "rf.fit(X_credit_train_8020, y_credit_train_8020)\n",
    "rf_accuracy_8020 = accuracy_score(y_credit_test_8020, rf.predict(X_credit_test_8020))\n",
    "\n",
    "# Store results for 80/20 partition\n",
    "results_8020 = {\n",
    "    'Logistic Regression': best_lr_score_8020,\n",
    "    'SVM': best_svm_score_8020,\n",
    "    'Random Forest': rf_accuracy_8020\n",
    "}"
   ]
  },
  {
   "cell_type": "code",
   "execution_count": 41,
   "id": "5dc8b40e",
   "metadata": {},
   "outputs": [
    {
     "name": "stdout",
     "output_type": "stream",
     "text": [
      "For 80/20\n",
      "Logistic Regression accuracy: 0.7037396862943877\n",
      "SVM accuracy: 0.7362648193517503\n",
      "Random Forest accuracy: 0.74\n"
     ]
    }
   ],
   "source": [
    "# Print results\n",
    "print(\"For 80/20\")\n",
    "print(\"Logistic Regression accuracy:\", best_lr_score_8020)\n",
    "print(\"SVM accuracy:\", best_svm_score_8020)\n",
    "print(\"Random Forest accuracy:\", rf_accuracy_8020)\n"
   ]
  },
  {
   "cell_type": "code",
   "execution_count": 42,
   "id": "a395cdb0",
   "metadata": {},
   "outputs": [],
   "source": [
    "# For 50/50 Partition\n",
    "# Logistic Regression with GridSearchCV\n",
    "grid_lr_5050 = GridSearchCV(log_reg, {'C': param_range}, cv=3, scoring='accuracy')\n",
    "grid_lr_5050.fit(X_credit_train_5050, y_credit_train_5050)\n",
    "best_lr_score_5050 = grid_lr_5050.best_score_\n",
    "\n",
    "# SVM with GridSearchCV\n",
    "grid_svm_5050 = GridSearchCV(svm, param_grid, cv=3, scoring='accuracy')\n",
    "grid_svm_5050.fit(X_credit_train_5050, y_credit_train_5050)\n",
    "best_svm_score_5050 = grid_svm_5050.best_score_\n",
    "\n",
    "# RandomForestClassifier\n",
    "rf.fit(X_credit_train_5050, y_credit_train_5050)\n",
    "rf_accuracy_5050 = accuracy_score(y_credit_test_5050, rf.predict(X_credit_test_5050))\n",
    "\n",
    "# Store results for 50/50 partition\n",
    "results_5050 = {\n",
    "    'Logistic Regression': best_lr_score_5050,\n",
    "    'SVM': best_svm_score_5050,\n",
    "    'Random Forest': rf_accuracy_5050\n",
    "}"
   ]
  },
  {
   "cell_type": "code",
   "execution_count": 43,
   "id": "e1294099",
   "metadata": {},
   "outputs": [
    {
     "name": "stdout",
     "output_type": "stream",
     "text": [
      "For 50/50\n",
      "Logistic Regression accuracy: 0.735973835461607\n",
      "SVM accuracy: 0.7420099559916311\n",
      "Random Forest accuracy: 0.736\n"
     ]
    }
   ],
   "source": [
    "print(\"For 50/50\")\n",
    "print(\"Logistic Regression accuracy:\", best_lr_score_5050)\n",
    "print(\"SVM accuracy:\", best_svm_score_5050)\n",
    "print(\"Random Forest accuracy:\", rf_accuracy_5050)"
   ]
  },
  {
   "cell_type": "code",
   "execution_count": 44,
   "id": "dc54ba13",
   "metadata": {},
   "outputs": [],
   "source": [
    "# For 20/80 Partition\n",
    "# Logistic Regression with GridSearchCV\n",
    "grid_lr_2080 = GridSearchCV(log_reg, {'C': param_range}, cv=3, scoring='accuracy')\n",
    "grid_lr_2080.fit(X_credit_train_2080, y_credit_train_2080)\n",
    "best_lr_score_2080 = grid_lr_2080.best_score_\n",
    "\n",
    "# SVM with GridSearchCV\n",
    "grid_svm_2080 = GridSearchCV(svm, param_grid, cv=3, scoring='accuracy')\n",
    "grid_svm_2080.fit(X_credit_train_2080, y_credit_train_2080)\n",
    "best_svm_score_2080 = grid_svm_2080.best_score_\n",
    "\n",
    "# RandomForestClassifier\n",
    "rf.fit(X_credit_train_2080, y_credit_train_2080)\n",
    "rf_accuracy_2080 = accuracy_score(y_credit_test_2080, rf.predict(X_credit_test_2080))\n",
    "\n",
    "# Store results for 20/80 partition\n",
    "results_2080 = {\n",
    "    'Logistic Regression': best_lr_score_2080,\n",
    "    'SVM': best_svm_score_2080,\n",
    "    'Random Forest': rf_accuracy_2080\n",
    "}"
   ]
  },
  {
   "cell_type": "code",
   "execution_count": 45,
   "id": "e75996e8",
   "metadata": {},
   "outputs": [
    {
     "name": "stdout",
     "output_type": "stream",
     "text": [
      "For 20/80\n",
      "Logistic Regression accuracy: 0.7202623247399367\n",
      "SVM accuracy: 0.7400120609075834\n",
      "Random Forest accuracy: 0.7275\n"
     ]
    }
   ],
   "source": [
    "print(\"For 20/80\")\n",
    "print(\"Logistic Regression accuracy:\", best_lr_score_2080)\n",
    "print(\"SVM accuracy:\", best_svm_score_2080)\n",
    "print(\"Random Forest accuracy:\", rf_accuracy_2080)"
   ]
  },
  {
   "cell_type": "code",
   "execution_count": 47,
   "id": "29e58658",
   "metadata": {},
   "outputs": [],
   "source": [
    "# Define results for the credit dataset\n",
    "results_8020_credit = {\n",
    "    'Logistic Regression': best_lr_score_8020,\n",
    "    'SVM': best_svm_score_8020,\n",
    "    'Random Forest': rf_accuracy_8020\n",
    "}\n",
    "\n",
    "results_5050_bank = {\n",
    "    'Logistic Regression': best_lr_score_5050,\n",
    "    'SVM': best_svm_score_5050,\n",
    "    'Random Forest': rf_accuracy_5050\n",
    "}\n",
    "\n",
    "results_2080_bank = {\n",
    "    'Logistic Regression': best_lr_score_2080,\n",
    "    'SVM': best_svm_score_2080,\n",
    "    'Random Forest': rf_accuracy_2080\n",
    "}"
   ]
  },
  {
   "cell_type": "markdown",
   "id": "656988e8",
   "metadata": {},
   "source": [
    "## Breast Cancer"
   ]
  },
  {
   "attachments": {},
   "cell_type": "markdown",
   "id": "39389f4c",
   "metadata": {},
   "source": [
    "This dataset contains diagnostic information of breast cancer cases, where each case is labeled as malignant or benign. Features are computed from a digitized image of a fine needle aspirate (FNA) of a breast mass, describing characteristics of the cell nuclei present in the image. The complexity here is due to the high-dimensionality and the sensitive nature of the predictions."
   ]
  },
  {
   "cell_type": "code",
   "execution_count": 48,
   "id": "9d1ce39d",
   "metadata": {},
   "outputs": [
    {
     "data": {
      "text/html": [
       "<div>\n",
       "<style scoped>\n",
       "    .dataframe tbody tr th:only-of-type {\n",
       "        vertical-align: middle;\n",
       "    }\n",
       "\n",
       "    .dataframe tbody tr th {\n",
       "        vertical-align: top;\n",
       "    }\n",
       "\n",
       "    .dataframe thead th {\n",
       "        text-align: right;\n",
       "    }\n",
       "</style>\n",
       "<table border=\"1\" class=\"dataframe\">\n",
       "  <thead>\n",
       "    <tr style=\"text-align: right;\">\n",
       "      <th></th>\n",
       "      <th>Sample_code_number</th>\n",
       "      <th>Clump_thickness</th>\n",
       "      <th>Uniformity_of_cell_size</th>\n",
       "      <th>Uniformity_of_cell_shape</th>\n",
       "      <th>Marginal_adhesion</th>\n",
       "      <th>Single_epithelial_cell_size</th>\n",
       "      <th>Bare_nuclei</th>\n",
       "      <th>Bland_chromatin</th>\n",
       "      <th>Normal_nucleoli</th>\n",
       "      <th>Mitoses</th>\n",
       "      <th>Class</th>\n",
       "    </tr>\n",
       "  </thead>\n",
       "  <tbody>\n",
       "    <tr>\n",
       "      <th>0</th>\n",
       "      <td>1000025</td>\n",
       "      <td>5</td>\n",
       "      <td>1</td>\n",
       "      <td>1</td>\n",
       "      <td>1</td>\n",
       "      <td>2</td>\n",
       "      <td>1.0</td>\n",
       "      <td>3</td>\n",
       "      <td>1</td>\n",
       "      <td>1</td>\n",
       "      <td>2</td>\n",
       "    </tr>\n",
       "    <tr>\n",
       "      <th>1</th>\n",
       "      <td>1002945</td>\n",
       "      <td>5</td>\n",
       "      <td>4</td>\n",
       "      <td>4</td>\n",
       "      <td>5</td>\n",
       "      <td>7</td>\n",
       "      <td>10.0</td>\n",
       "      <td>3</td>\n",
       "      <td>2</td>\n",
       "      <td>1</td>\n",
       "      <td>2</td>\n",
       "    </tr>\n",
       "    <tr>\n",
       "      <th>2</th>\n",
       "      <td>1015425</td>\n",
       "      <td>3</td>\n",
       "      <td>1</td>\n",
       "      <td>1</td>\n",
       "      <td>1</td>\n",
       "      <td>2</td>\n",
       "      <td>2.0</td>\n",
       "      <td>3</td>\n",
       "      <td>1</td>\n",
       "      <td>1</td>\n",
       "      <td>2</td>\n",
       "    </tr>\n",
       "    <tr>\n",
       "      <th>3</th>\n",
       "      <td>1016277</td>\n",
       "      <td>6</td>\n",
       "      <td>8</td>\n",
       "      <td>8</td>\n",
       "      <td>1</td>\n",
       "      <td>3</td>\n",
       "      <td>4.0</td>\n",
       "      <td>3</td>\n",
       "      <td>7</td>\n",
       "      <td>1</td>\n",
       "      <td>2</td>\n",
       "    </tr>\n",
       "    <tr>\n",
       "      <th>4</th>\n",
       "      <td>1017023</td>\n",
       "      <td>4</td>\n",
       "      <td>1</td>\n",
       "      <td>1</td>\n",
       "      <td>3</td>\n",
       "      <td>2</td>\n",
       "      <td>1.0</td>\n",
       "      <td>3</td>\n",
       "      <td>1</td>\n",
       "      <td>1</td>\n",
       "      <td>2</td>\n",
       "    </tr>\n",
       "  </tbody>\n",
       "</table>\n",
       "</div>"
      ],
      "text/plain": [
       "   Sample_code_number  Clump_thickness  Uniformity_of_cell_size  \\\n",
       "0             1000025                5                        1   \n",
       "1             1002945                5                        4   \n",
       "2             1015425                3                        1   \n",
       "3             1016277                6                        8   \n",
       "4             1017023                4                        1   \n",
       "\n",
       "   Uniformity_of_cell_shape  Marginal_adhesion  Single_epithelial_cell_size  \\\n",
       "0                         1                  1                            2   \n",
       "1                         4                  5                            7   \n",
       "2                         1                  1                            2   \n",
       "3                         8                  1                            3   \n",
       "4                         1                  3                            2   \n",
       "\n",
       "   Bare_nuclei  Bland_chromatin  Normal_nucleoli  Mitoses  Class  \n",
       "0          1.0                3                1        1      2  \n",
       "1         10.0                3                2        1      2  \n",
       "2          2.0                3                1        1      2  \n",
       "3          4.0                3                7        1      2  \n",
       "4          1.0                3                1        1      2  "
      ]
     },
     "execution_count": 48,
     "metadata": {},
     "output_type": "execute_result"
    }
   ],
   "source": [
    "import pandas as pd\n",
    "\n",
    "# URL of the dataset\n",
    "url = \"http://archive.ics.uci.edu/ml/machine-learning-databases/breast-cancer-wisconsin/breast-cancer-wisconsin.data\"\n",
    "\n",
    "# Column names as per the dataset description\n",
    "column_names = [\"Sample_code_number\", \"Clump_thickness\", \"Uniformity_of_cell_size\",\n",
    "                \"Uniformity_of_cell_shape\", \"Marginal_adhesion\", \"Single_epithelial_cell_size\",\n",
    "                \"Bare_nuclei\", \"Bland_chromatin\", \"Normal_nucleoli\", \"Mitoses\", \"Class\"]\n",
    "\n",
    "# Import the dataset, handling missing values\n",
    "data_cancer = pd.read_csv(url, names=column_names, na_values=\"?\")\n",
    "\n",
    "# Drop rows with missing values\n",
    "data_cancer.dropna(inplace=True)\n",
    "\n",
    "# Display the first few rows of the dataframe\n",
    "data_cancer.head()\n"
   ]
  },
  {
   "cell_type": "code",
   "execution_count": 49,
   "id": "17aacb01",
   "metadata": {},
   "outputs": [
    {
     "data": {
      "text/html": [
       "<div>\n",
       "<style scoped>\n",
       "    .dataframe tbody tr th:only-of-type {\n",
       "        vertical-align: middle;\n",
       "    }\n",
       "\n",
       "    .dataframe tbody tr th {\n",
       "        vertical-align: top;\n",
       "    }\n",
       "\n",
       "    .dataframe thead th {\n",
       "        text-align: right;\n",
       "    }\n",
       "</style>\n",
       "<table border=\"1\" class=\"dataframe\">\n",
       "  <thead>\n",
       "    <tr style=\"text-align: right;\">\n",
       "      <th></th>\n",
       "      <th>Sample_code_number</th>\n",
       "      <th>Clump_thickness</th>\n",
       "      <th>Uniformity_of_cell_size</th>\n",
       "      <th>Uniformity_of_cell_shape</th>\n",
       "      <th>Marginal_adhesion</th>\n",
       "      <th>Single_epithelial_cell_size</th>\n",
       "      <th>Bare_nuclei</th>\n",
       "      <th>Bland_chromatin</th>\n",
       "      <th>Normal_nucleoli</th>\n",
       "      <th>Mitoses</th>\n",
       "      <th>Class</th>\n",
       "    </tr>\n",
       "  </thead>\n",
       "  <tbody>\n",
       "    <tr>\n",
       "      <th>0</th>\n",
       "      <td>1000025</td>\n",
       "      <td>5</td>\n",
       "      <td>1</td>\n",
       "      <td>1</td>\n",
       "      <td>1</td>\n",
       "      <td>2</td>\n",
       "      <td>1.0</td>\n",
       "      <td>3</td>\n",
       "      <td>1</td>\n",
       "      <td>1</td>\n",
       "      <td>2</td>\n",
       "    </tr>\n",
       "    <tr>\n",
       "      <th>1</th>\n",
       "      <td>1002945</td>\n",
       "      <td>5</td>\n",
       "      <td>4</td>\n",
       "      <td>4</td>\n",
       "      <td>5</td>\n",
       "      <td>7</td>\n",
       "      <td>10.0</td>\n",
       "      <td>3</td>\n",
       "      <td>2</td>\n",
       "      <td>1</td>\n",
       "      <td>2</td>\n",
       "    </tr>\n",
       "    <tr>\n",
       "      <th>2</th>\n",
       "      <td>1015425</td>\n",
       "      <td>3</td>\n",
       "      <td>1</td>\n",
       "      <td>1</td>\n",
       "      <td>1</td>\n",
       "      <td>2</td>\n",
       "      <td>2.0</td>\n",
       "      <td>3</td>\n",
       "      <td>1</td>\n",
       "      <td>1</td>\n",
       "      <td>2</td>\n",
       "    </tr>\n",
       "    <tr>\n",
       "      <th>3</th>\n",
       "      <td>1016277</td>\n",
       "      <td>6</td>\n",
       "      <td>8</td>\n",
       "      <td>8</td>\n",
       "      <td>1</td>\n",
       "      <td>3</td>\n",
       "      <td>4.0</td>\n",
       "      <td>3</td>\n",
       "      <td>7</td>\n",
       "      <td>1</td>\n",
       "      <td>2</td>\n",
       "    </tr>\n",
       "    <tr>\n",
       "      <th>4</th>\n",
       "      <td>1017023</td>\n",
       "      <td>4</td>\n",
       "      <td>1</td>\n",
       "      <td>1</td>\n",
       "      <td>3</td>\n",
       "      <td>2</td>\n",
       "      <td>1.0</td>\n",
       "      <td>3</td>\n",
       "      <td>1</td>\n",
       "      <td>1</td>\n",
       "      <td>2</td>\n",
       "    </tr>\n",
       "  </tbody>\n",
       "</table>\n",
       "</div>"
      ],
      "text/plain": [
       "   Sample_code_number  Clump_thickness  Uniformity_of_cell_size  \\\n",
       "0             1000025                5                        1   \n",
       "1             1002945                5                        4   \n",
       "2             1015425                3                        1   \n",
       "3             1016277                6                        8   \n",
       "4             1017023                4                        1   \n",
       "\n",
       "   Uniformity_of_cell_shape  Marginal_adhesion  Single_epithelial_cell_size  \\\n",
       "0                         1                  1                            2   \n",
       "1                         4                  5                            7   \n",
       "2                         1                  1                            2   \n",
       "3                         8                  1                            3   \n",
       "4                         1                  3                            2   \n",
       "\n",
       "   Bare_nuclei  Bland_chromatin  Normal_nucleoli  Mitoses  Class  \n",
       "0          1.0                3                1        1      2  \n",
       "1         10.0                3                2        1      2  \n",
       "2          2.0                3                1        1      2  \n",
       "3          4.0                3                7        1      2  \n",
       "4          1.0                3                1        1      2  "
      ]
     },
     "execution_count": 49,
     "metadata": {},
     "output_type": "execute_result"
    }
   ],
   "source": [
    "data_cancer.head()"
   ]
  },
  {
   "cell_type": "code",
   "execution_count": 50,
   "id": "7d10457d",
   "metadata": {},
   "outputs": [
    {
     "data": {
      "text/plain": [
       "array([2, 4])"
      ]
     },
     "execution_count": 50,
     "metadata": {},
     "output_type": "execute_result"
    }
   ],
   "source": [
    "data_cancer['Class'].unique()"
   ]
  },
  {
   "cell_type": "code",
   "execution_count": 51,
   "id": "54521dc5",
   "metadata": {},
   "outputs": [],
   "source": [
    "data_cancer['Class'] = data_cancer['Class'].replace(2, 0)"
   ]
  },
  {
   "cell_type": "code",
   "execution_count": 52,
   "id": "b6ed05bc",
   "metadata": {},
   "outputs": [],
   "source": [
    "data_cancer['Class'] = data_cancer['Class'].replace(4, 1)"
   ]
  },
  {
   "cell_type": "code",
   "execution_count": 53,
   "id": "cd3a4bce",
   "metadata": {},
   "outputs": [
    {
     "data": {
      "text/html": [
       "<div>\n",
       "<style scoped>\n",
       "    .dataframe tbody tr th:only-of-type {\n",
       "        vertical-align: middle;\n",
       "    }\n",
       "\n",
       "    .dataframe tbody tr th {\n",
       "        vertical-align: top;\n",
       "    }\n",
       "\n",
       "    .dataframe thead th {\n",
       "        text-align: right;\n",
       "    }\n",
       "</style>\n",
       "<table border=\"1\" class=\"dataframe\">\n",
       "  <thead>\n",
       "    <tr style=\"text-align: right;\">\n",
       "      <th></th>\n",
       "      <th>Sample_code_number</th>\n",
       "      <th>Clump_thickness</th>\n",
       "      <th>Uniformity_of_cell_size</th>\n",
       "      <th>Uniformity_of_cell_shape</th>\n",
       "      <th>Marginal_adhesion</th>\n",
       "      <th>Single_epithelial_cell_size</th>\n",
       "      <th>Bare_nuclei</th>\n",
       "      <th>Bland_chromatin</th>\n",
       "      <th>Normal_nucleoli</th>\n",
       "      <th>Mitoses</th>\n",
       "      <th>Class</th>\n",
       "    </tr>\n",
       "  </thead>\n",
       "  <tbody>\n",
       "    <tr>\n",
       "      <th>0</th>\n",
       "      <td>1000025</td>\n",
       "      <td>5</td>\n",
       "      <td>1</td>\n",
       "      <td>1</td>\n",
       "      <td>1</td>\n",
       "      <td>2</td>\n",
       "      <td>1.0</td>\n",
       "      <td>3</td>\n",
       "      <td>1</td>\n",
       "      <td>1</td>\n",
       "      <td>0</td>\n",
       "    </tr>\n",
       "    <tr>\n",
       "      <th>1</th>\n",
       "      <td>1002945</td>\n",
       "      <td>5</td>\n",
       "      <td>4</td>\n",
       "      <td>4</td>\n",
       "      <td>5</td>\n",
       "      <td>7</td>\n",
       "      <td>10.0</td>\n",
       "      <td>3</td>\n",
       "      <td>2</td>\n",
       "      <td>1</td>\n",
       "      <td>0</td>\n",
       "    </tr>\n",
       "    <tr>\n",
       "      <th>2</th>\n",
       "      <td>1015425</td>\n",
       "      <td>3</td>\n",
       "      <td>1</td>\n",
       "      <td>1</td>\n",
       "      <td>1</td>\n",
       "      <td>2</td>\n",
       "      <td>2.0</td>\n",
       "      <td>3</td>\n",
       "      <td>1</td>\n",
       "      <td>1</td>\n",
       "      <td>0</td>\n",
       "    </tr>\n",
       "    <tr>\n",
       "      <th>3</th>\n",
       "      <td>1016277</td>\n",
       "      <td>6</td>\n",
       "      <td>8</td>\n",
       "      <td>8</td>\n",
       "      <td>1</td>\n",
       "      <td>3</td>\n",
       "      <td>4.0</td>\n",
       "      <td>3</td>\n",
       "      <td>7</td>\n",
       "      <td>1</td>\n",
       "      <td>0</td>\n",
       "    </tr>\n",
       "    <tr>\n",
       "      <th>4</th>\n",
       "      <td>1017023</td>\n",
       "      <td>4</td>\n",
       "      <td>1</td>\n",
       "      <td>1</td>\n",
       "      <td>3</td>\n",
       "      <td>2</td>\n",
       "      <td>1.0</td>\n",
       "      <td>3</td>\n",
       "      <td>1</td>\n",
       "      <td>1</td>\n",
       "      <td>0</td>\n",
       "    </tr>\n",
       "  </tbody>\n",
       "</table>\n",
       "</div>"
      ],
      "text/plain": [
       "   Sample_code_number  Clump_thickness  Uniformity_of_cell_size  \\\n",
       "0             1000025                5                        1   \n",
       "1             1002945                5                        4   \n",
       "2             1015425                3                        1   \n",
       "3             1016277                6                        8   \n",
       "4             1017023                4                        1   \n",
       "\n",
       "   Uniformity_of_cell_shape  Marginal_adhesion  Single_epithelial_cell_size  \\\n",
       "0                         1                  1                            2   \n",
       "1                         4                  5                            7   \n",
       "2                         1                  1                            2   \n",
       "3                         8                  1                            3   \n",
       "4                         1                  3                            2   \n",
       "\n",
       "   Bare_nuclei  Bland_chromatin  Normal_nucleoli  Mitoses  Class  \n",
       "0          1.0                3                1        1      0  \n",
       "1         10.0                3                2        1      0  \n",
       "2          2.0                3                1        1      0  \n",
       "3          4.0                3                7        1      0  \n",
       "4          1.0                3                1        1      0  "
      ]
     },
     "execution_count": 53,
     "metadata": {},
     "output_type": "execute_result"
    }
   ],
   "source": [
    "data_cancer.head()"
   ]
  },
  {
   "cell_type": "code",
   "execution_count": 54,
   "id": "d018210d",
   "metadata": {},
   "outputs": [],
   "source": [
    "# Split the dataset into X (features) and y (target)\n",
    "X_cancer = data_cancer.drop(\"Class\", axis=1)\n",
    "y_cancer = data_cancer[\"Class\"]"
   ]
  },
  {
   "cell_type": "code",
   "execution_count": 55,
   "id": "66ba0691",
   "metadata": {},
   "outputs": [],
   "source": [
    "# Standardize numerical features\n",
    "scaler = StandardScaler()\n",
    "numerical_cols = [\"Clump_thickness\", \"Uniformity_of_cell_size\", \"Uniformity_of_cell_shape\", \"Marginal_adhesion\",\n",
    "                   \"Single_epithelial_cell_size\", \"Bare_nuclei\", \"Bland_chromatin\", \"Normal_nucleoli\", \"Mitoses\"]\n",
    "X_cancer[numerical_cols] = scaler.fit_transform(X_cancer[numerical_cols])\n"
   ]
  },
  {
   "cell_type": "code",
   "execution_count": 56,
   "id": "0fd6dc04",
   "metadata": {},
   "outputs": [],
   "source": [
    "# Split the dataset into 80/20, 50/50, and 20/80 partitions\n",
    "X_cancer_train_8020, X_cancer_test_8020, y_cancer_train_8020, y_cancer_test_8020 = train_test_split(X_cancer, y_cancer, test_size=0.20, random_state=42)\n",
    "X_cancer_train_5050, X_cancer_test_5050, y_cancer_train_5050, y_cancer_test_5050 = train_test_split(X_cancer, y_cancer, test_size=0.50, random_state=42)\n",
    "X_cancer_train_2080, X_cancer_test_2080, y_cancer_train_2080, y_cancer_test_2080 = train_test_split(X_cancer, y_cancer, test_size=0.80, random_state=42)\n"
   ]
  },
  {
   "cell_type": "code",
   "execution_count": 57,
   "id": "3725c86d",
   "metadata": {},
   "outputs": [],
   "source": [
    "# Dictionary to store results for Breast Cancer dataset\n",
    "results_cancer = {}"
   ]
  },
  {
   "cell_type": "code",
   "execution_count": 58,
   "id": "ab1016e1",
   "metadata": {},
   "outputs": [],
   "source": [
    "param_range = [0.001, 0.01, 0.1, 1, 10, 100]"
   ]
  },
  {
   "cell_type": "code",
   "execution_count": 59,
   "id": "b6976331",
   "metadata": {},
   "outputs": [],
   "source": [
    "log_reg = LogisticRegression(solver='liblinear', class_weight='balanced')\n",
    "svm = SVC()\n",
    "rf = RandomForestClassifier(n_estimators=100)  # Example parameter\n",
    "param_grid = {'C': param_range}"
   ]
  },
  {
   "cell_type": "code",
   "execution_count": 60,
   "id": "d5a3344a",
   "metadata": {},
   "outputs": [],
   "source": [
    "# For 80/20 Partition\n",
    "# Logistic Regression with GridSearchCV\n",
    "grid_lr_8020 = GridSearchCV(log_reg, {'C': param_range}, cv=3, scoring='accuracy')\n",
    "grid_lr_8020.fit(X_cancer_train_8020, y_cancer_train_8020)\n",
    "best_lr_score_8020 = grid_lr_8020.best_score_\n",
    "\n",
    "# SVM with GridSearchCV\n",
    "grid_svm_8020 = GridSearchCV(svm, param_grid, cv=3, scoring='accuracy')\n",
    "grid_svm_8020.fit(X_cancer_train_8020, y_cancer_train_8020)\n",
    "best_svm_score_8020 = grid_svm_8020.best_score_\n",
    "\n",
    "# RandomForestClassifier\n",
    "rf.fit(X_cancer_train_8020, y_cancer_train_8020)\n",
    "rf_accuracy_8020 = accuracy_score(y_cancer_test_8020, rf.predict(X_cancer_test_8020))\n",
    "\n",
    "# Store results for 80/20 partition\n",
    "results_cancer['80/20'] = {\n",
    "    'Logistic Regression': best_lr_score_8020,\n",
    "    'SVM': best_svm_score_8020,\n",
    "    'Random Forest': rf_accuracy_8020\n",
    "}"
   ]
  },
  {
   "cell_type": "code",
   "execution_count": 61,
   "id": "22432ba0",
   "metadata": {},
   "outputs": [
    {
     "name": "stdout",
     "output_type": "stream",
     "text": [
      "For 50/50 Partition\n",
      "Logistic Regression accuracy: 0.86996336996337\n",
      "SVM accuracy: 0.6739926739926739\n",
      "Random Forest accuracy: 0.9708029197080292\n"
     ]
    }
   ],
   "source": [
    "# Print results for 50/50 partition\n",
    "print(\"For 50/50 Partition\")\n",
    "print(\"Logistic Regression accuracy:\", best_lr_score_8020)\n",
    "print(\"SVM accuracy:\", best_svm_score_8020)\n",
    "print(\"Random Forest accuracy:\", rf_accuracy_8020)"
   ]
  },
  {
   "cell_type": "code",
   "execution_count": 62,
   "id": "c7b72cbc",
   "metadata": {},
   "outputs": [],
   "source": [
    "## For 50/50 Partition\n",
    "# Logistic Regression with GridSearchCV\n",
    "grid_lr_5050 = GridSearchCV(log_reg, {'C': param_range}, cv=3, scoring='accuracy')\n",
    "grid_lr_5050.fit(X_cancer_train_5050, y_cancer_train_5050)\n",
    "best_lr_score_5050 = grid_lr_5050.best_score_\n",
    "\n",
    "# SVM with GridSearchCV\n",
    "grid_svm_5050 = GridSearchCV(svm, param_grid, cv=3, scoring='accuracy')\n",
    "grid_svm_5050.fit(X_cancer_train_5050, y_cancer_train_5050)\n",
    "best_svm_score_5050 = grid_svm_5050.best_score_\n",
    "\n",
    "# RandomForestClassifier\n",
    "rf.fit(X_cancer_train_5050, y_cancer_train_5050)\n",
    "rf_accuracy_5050 = accuracy_score(y_cancer_test_5050, rf.predict(X_cancer_test_5050))\n",
    "\n",
    "# Store results for 50/50 partition\n",
    "results_cancer['50/50'] = {\n",
    "    'Logistic Regression': best_lr_score_5050,\n",
    "    'SVM': best_svm_score_5050,\n",
    "    'Random Forest': rf_accuracy_5050\n",
    "}"
   ]
  },
  {
   "cell_type": "code",
   "execution_count": 63,
   "id": "62e581b0",
   "metadata": {},
   "outputs": [
    {
     "name": "stdout",
     "output_type": "stream",
     "text": [
      "For 50/50 Partition\n",
      "Logistic Regression accuracy: 0.9706308544221912\n",
      "SVM accuracy: 0.6715313357139161\n",
      "Random Forest accuracy: 0.9590643274853801\n"
     ]
    }
   ],
   "source": [
    "# Print results for 50/50 partition\n",
    "print(\"For 50/50 Partition\")\n",
    "print(\"Logistic Regression accuracy:\", best_lr_score_5050)\n",
    "print(\"SVM accuracy:\", best_svm_score_5050)\n",
    "print(\"Random Forest accuracy:\", rf_accuracy_5050)"
   ]
  },
  {
   "cell_type": "code",
   "execution_count": 64,
   "id": "8230d175",
   "metadata": {},
   "outputs": [
    {
     "name": "stdout",
     "output_type": "stream",
     "text": [
      "For 20/80 Partition\n",
      "Logistic Regression accuracy: 0.9629629629629629\n",
      "SVM accuracy: 0.6249597423510468\n",
      "Random Forest accuracy: 0.9725776965265083\n"
     ]
    }
   ],
   "source": [
    "# For 20/80 Partition\n",
    "# Logistic Regression with GridSearchCV\n",
    "grid_lr_2080 = GridSearchCV(log_reg, {'C': param_range}, cv=3, scoring='accuracy')\n",
    "grid_lr_2080.fit(X_cancer_train_2080, y_cancer_train_2080)\n",
    "best_lr_score_2080 = grid_lr_2080.best_score_\n",
    "\n",
    "# SVM with GridSearchCV\n",
    "grid_svm_2080 = GridSearchCV(svm, param_grid, cv=3, scoring='accuracy')\n",
    "grid_svm_2080.fit(X_cancer_train_2080, y_cancer_train_2080)\n",
    "best_svm_score_2080 = grid_svm_2080.best_score_\n",
    "\n",
    "# RandomForestClassifier\n",
    "rf.fit(X_cancer_train_2080, y_cancer_train_2080)\n",
    "rf_accuracy_2080 = accuracy_score(y_cancer_test_2080, rf.predict(X_cancer_test_2080))\n",
    "\n",
    "# Store results for 20/80 partition\n",
    "results_cancer['20/80'] = {\n",
    "    'Logistic Regression': best_lr_score_2080,\n",
    "    'SVM': best_svm_score_2080,\n",
    "    'Random Forest': rf_accuracy_2080\n",
    "}\n",
    "\n",
    "# Print results for 20/80 partition\n",
    "print(\"For 20/80 Partition\")\n",
    "print(\"Logistic Regression accuracy:\", best_lr_score_2080)\n",
    "print(\"SVM accuracy:\", best_svm_score_2080)\n",
    "print(\"Random Forest accuracy:\", rf_accuracy_2080)\n"
   ]
  },
  {
   "cell_type": "code",
   "execution_count": 65,
   "id": "0c74fe85",
   "metadata": {},
   "outputs": [],
   "source": [
    "# Define results for the breast cancer dataset\n",
    "results_8020_german = {\n",
    "    'Logistic Regression': best_lr_score_8020,\n",
    "    'SVM': best_svm_score_8020,\n",
    "    'Random Forest': rf_accuracy_8020\n",
    "}\n",
    "\n",
    "results_5050_german = {\n",
    "    'Logistic Regression': best_lr_score_5050,\n",
    "    'SVM': best_svm_score_5050,\n",
    "    'Random Forest': rf_accuracy_5050\n",
    "}\n",
    "\n",
    "results_2080_german = {\n",
    "    'Logistic Regression': best_lr_score_2080,\n",
    "    'SVM': best_svm_score_2080,\n",
    "    'Random Forest': rf_accuracy_2080\n",
    "}"
   ]
  },
  {
   "cell_type": "markdown",
   "id": "8b5401a4",
   "metadata": {},
   "source": [
    "## Visualizations"
   ]
  },
  {
   "cell_type": "code",
   "execution_count": 75,
   "id": "92de3f6d",
   "metadata": {},
   "outputs": [],
   "source": [
    "import matplotlib.pyplot as plt\n",
    "import seaborn as sns\n",
    "\n",
    "# Results for different datasets and partitions\n",
    "results_adult = {\n",
    "    '20/80': {'Logistic Regression': 0.8028843846406951, 'SVM': 0.8456562702812804, 'Random Forest': 0.8495234148363033},\n",
    "    '50/50': {'Logistic Regression': 0.8048, 'SVM': 0.8489, 'Random Forest': 0.8496}, \n",
    "    '80/20': {'Logistic Regression': 0.8083, 'SVM': 0.8496, 'Random Forest': 0.8512}\n",
    "}\n",
    "\n",
    "results_credit = {\n",
    "    '20/80': {'Logistic Regression': 0.7203, 'SVM': 0.7400, 'Random Forest': 0.7275},\n",
    "    '50/50': {'Logistic Regression': 0.7360, 'SVM': 0.7420, 'Random Forest': 0.7360},\n",
    "    '80/20': {'Logistic Regression': 0.7037, 'SVM': 0.7363, 'Random Forest': 0.7400}\n",
    "}\n",
    "\n",
    "results_german = {\n",
    "    '20/80': {'Logistic Regression': 0.9630, 'SVM': 0.6250, 'Random Forest': 0.9726},\n",
    "    '50/50': {'Logistic Regression': 0.9706, 'SVM': 0.6715, 'Random Forest': 0.9591},\n",
    "    '80/20': {'Logistic Regression': 0.8700, 'SVM': 0.6740, 'Random Forest': 0.9708}\n",
    "}\n"
   ]
  },
  {
   "cell_type": "code",
   "execution_count": 76,
   "id": "021ee2db",
   "metadata": {},
   "outputs": [
    {
     "data": {
      "image/png": "[encoded data removed]",
      "text/plain": [
       "<Figure size 720x432 with 1 Axes>"
      ]
     },
     "metadata": {
      "needs_background": "light"
     },
     "output_type": "display_data"
    },
    {
     "data": {
      "image/png": "[encoded data removed]",
      "text/plain": [
       "<Figure size 720x432 with 1 Axes>"
      ]
     },
     "metadata": {
      "needs_background": "light"
     },
     "output_type": "display_data"
    },
    {
     "data": {
      "image/png": "[encoded data removed]",
      "text/plain": [
       "<Figure size 720x432 with 1 Axes>"
      ]
     },
     "metadata": {
      "needs_background": "light"
     },
     "output_type": "display_data"
    }
   ],
   "source": [
    "# Plotting results for each dataset\n",
    "datasets = {'Adult Dataset': results_adult, 'German Credit Dataset': results_credit, 'Breast Cancer Dataset': results_german}\n",
    "for dataset_name, dataset_results in datasets.items():\n",
    "    plt.figure(figsize=(10, 6))\n",
    "    for partition, scores in dataset_results.items():\n",
    "        sns.barplot(x=list(scores.keys()), y=list(scores.values()))\n",
    "        plt.title(f'{dataset_name} - {partition} Partition')\n",
    "        plt.ylabel('Accuracy')\n",
    "    plt.show()\n"
   ]
  },
  {
   "cell_type": "code",
   "execution_count": 77,
   "id": "27f7114a",
   "metadata": {},
   "outputs": [
    {
     "data": {
      "image/png": "[encoded data removed]",
      "text/plain": [
       "<Figure size 720x432 with 1 Axes>"
      ]
     },
     "metadata": {
      "needs_background": "light"
     },
     "output_type": "display_data"
    },
    {
     "data": {
      "image/png": "[encoded data removed]",
      "text/plain": [
       "<Figure size 720x432 with 1 Axes>"
      ]
     },
     "metadata": {
      "needs_background": "light"
     },
     "output_type": "display_data"
    },
    {
     "data": {
      "image/png": "[encoded data removed]",
      "text/plain": [
       "<Figure size 720x432 with 1 Axes>"
      ]
     },
     "metadata": {
      "needs_background": "light"
     },
     "output_type": "display_data"
    }
   ],
   "source": [
    "import matplotlib.pyplot as plt\n",
    "\n",
    "# Data from the table provided by the user\n",
    "data = {\n",
    "    'Breast Cancer': {\n",
    "        'Logistic Regression': [0.962963, 0.970631, 0.869963],\n",
    "        'SVM': [0.624960, 0.671531, 0.673993],\n",
    "        'Random Forest': [0.972578, 0.959064, 0.970803]\n",
    "    },\n",
    "    'Adult': {\n",
    "        'Logistic Regression': [0.802884, 0.804787, 0.808280],\n",
    "        'SVM': [0.845656, 0.848883, 0.849600],\n",
    "        'Random Forest': [0.849523, 0.849612, 0.851152]\n",
    "    },\n",
    "    'German Credit': {\n",
    "        'Logistic Regression': [0.720262, 0.735974, 0.703740],\n",
    "        'SVM': [0.740012, 0.742010, 0.736265],\n",
    "        'Random Forest': [0.727500, 0.736000, 0.740000]\n",
    "    }\n",
    "}\n",
    "\n",
    "# Plotting\n",
    "partitions = ['20/80', '50/50', '80/20']\n",
    "for dataset, classifiers in data.items():\n",
    "    plt.figure(figsize=(10, 6))\n",
    "    for classifier, accuracies in classifiers.items():\n",
    "        plt.plot(partitions, accuracies, marker='o', label=classifier)\n",
    "\n",
    "    plt.title(f'Classifier Performance on {dataset} Dataset')\n",
    "    plt.xlabel('Partition')\n",
    "    plt.ylabel('Accuracy')\n",
    "    plt.legend()\n",
    "    plt.grid(True)\n",
    "    plt.show()\n"
   ]
  },
  {
   "cell_type": "code",
   "execution_count": 74,
   "id": "2386155d",
   "metadata": {},
   "outputs": [
    {
     "data": {
      "text/html": [
       "<div>\n",
       "<style scoped>\n",
       "    .dataframe tbody tr th:only-of-type {\n",
       "        vertical-align: middle;\n",
       "    }\n",
       "\n",
       "    .dataframe tbody tr th {\n",
       "        vertical-align: top;\n",
       "    }\n",
       "\n",
       "    .dataframe thead th {\n",
       "        text-align: right;\n",
       "    }\n",
       "</style>\n",
       "<table border=\"1\" class=\"dataframe\">\n",
       "  <thead>\n",
       "    <tr style=\"text-align: right;\">\n",
       "      <th></th>\n",
       "      <th></th>\n",
       "      <th>20/80</th>\n",
       "      <th>50/50</th>\n",
       "      <th>80/20</th>\n",
       "    </tr>\n",
       "    <tr>\n",
       "      <th>Dataset</th>\n",
       "      <th>Classifier</th>\n",
       "      <th></th>\n",
       "      <th></th>\n",
       "      <th></th>\n",
       "    </tr>\n",
       "  </thead>\n",
       "  <tbody>\n",
       "    <tr>\n",
       "      <th rowspan=\"3\" valign=\"top\">Breast Cancer</th>\n",
       "      <th>Logistic Regression</th>\n",
       "      <td>0.962963</td>\n",
       "      <td>0.970631</td>\n",
       "      <td>0.869963</td>\n",
       "    </tr>\n",
       "    <tr>\n",
       "      <th>SVM</th>\n",
       "      <td>0.624960</td>\n",
       "      <td>0.671531</td>\n",
       "      <td>0.673993</td>\n",
       "    </tr>\n",
       "    <tr>\n",
       "      <th>Random Forest</th>\n",
       "      <td>0.972578</td>\n",
       "      <td>0.959064</td>\n",
       "      <td>0.970803</td>\n",
       "    </tr>\n",
       "    <tr>\n",
       "      <th rowspan=\"3\" valign=\"top\">Adult</th>\n",
       "      <th>Logistic Regression</th>\n",
       "      <td>0.802884</td>\n",
       "      <td>0.804787</td>\n",
       "      <td>0.808280</td>\n",
       "    </tr>\n",
       "    <tr>\n",
       "      <th>SVM</th>\n",
       "      <td>0.845656</td>\n",
       "      <td>0.848883</td>\n",
       "      <td>0.849600</td>\n",
       "    </tr>\n",
       "    <tr>\n",
       "      <th>Random Forest</th>\n",
       "      <td>0.849523</td>\n",
       "      <td>0.849612</td>\n",
       "      <td>0.851152</td>\n",
       "    </tr>\n",
       "    <tr>\n",
       "      <th rowspan=\"3\" valign=\"top\">Credit</th>\n",
       "      <th>Logistic Regression</th>\n",
       "      <td>0.720262</td>\n",
       "      <td>0.735974</td>\n",
       "      <td>0.703740</td>\n",
       "    </tr>\n",
       "    <tr>\n",
       "      <th>SVM</th>\n",
       "      <td>0.740012</td>\n",
       "      <td>0.742010</td>\n",
       "      <td>0.736265</td>\n",
       "    </tr>\n",
       "    <tr>\n",
       "      <th>Random Forest</th>\n",
       "      <td>0.727500</td>\n",
       "      <td>0.736000</td>\n",
       "      <td>0.740000</td>\n",
       "    </tr>\n",
       "  </tbody>\n",
       "</table>\n",
       "</div>"
      ],
      "text/plain": [
       "                                      20/80     50/50     80/20\n",
       "Dataset       Classifier                                       \n",
       "Breast Cancer Logistic Regression  0.962963  0.970631  0.869963\n",
       "              SVM                  0.624960  0.671531  0.673993\n",
       "              Random Forest        0.972578  0.959064  0.970803\n",
       "Adult         Logistic Regression  0.802884  0.804787  0.808280\n",
       "              SVM                  0.845656  0.848883  0.849600\n",
       "              Random Forest        0.849523  0.849612  0.851152\n",
       "Credit        Logistic Regression  0.720262  0.735974  0.703740\n",
       "              SVM                  0.740012  0.742010  0.736265\n",
       "              Random Forest        0.727500  0.736000  0.740000"
      ]
     },
     "execution_count": 74,
     "metadata": {},
     "output_type": "execute_result"
    }
   ],
   "source": [
    "import pandas as pd\n",
    "\n",
    "# Data for the table\n",
    "data = {\n",
    "    'Classifier': ['Logistic Regression', 'SVM', 'Random Forest'] * 3,\n",
    "    'Dataset': ['Breast Cancer', 'Breast Cancer', 'Breast Cancer', 'Adult', 'Adult', 'Adult', 'Credit', 'Credit', 'Credit'],\n",
    "    '20/80': [0.9629629629629629, 0.6249597423510468, 0.9725776965265083, \n",
    "              0.8028843846406951, 0.8456562702812804, 0.8495234148363033, \n",
    "              0.7202623247399367, 0.7400120609075834, 0.7275],\n",
    "    '50/50': [0.9706308544221912, 0.6715313357139161, 0.9590643274853801,\n",
    "              0.8047874809362775, 0.8488827000862011, 0.8496120946886812,\n",
    "              0.735973835461607, 0.7420099559916311, 0.736],\n",
    "    '80/20': [0.86996336996337, 0.6739926739926739, 0.9708029197080292,\n",
    "              0.8082804923535994, 0.8496000663102491, 0.8511519973479198,\n",
    "              0.7037396862943877, 0.7362648193517503, 0.74]\n",
    "}\n",
    "\n",
    "# Creating a DataFrame\n",
    "accuracy_table = pd.DataFrame(data)\n",
    "\n",
    "# Setting the layout for better visibility\n",
    "accuracy_table = accuracy_table.set_index(['Dataset', 'Classifier'])\n",
    "accuracy_table = accuracy_table[['20/80', '50/50', '80/20']]\n",
    "\n",
    "accuracy_table\n"
   ]
  },
  {
   "attachments": {},
   "cell_type": "markdown",
   "id": "d3f73cba",
   "metadata": {},
   "source": [
    "The results showcase how Logistic Regression, SVM, and Random Forest classifiers perform across three UCI datasets. Random Forest consistently excels, particularly with the Breast Cancer data, suggesting its strong fit for complex patterns. SVM shows competitive performance on the Adult dataset, indicating its capability with diverse features. Logistic Regression improves with more data, highlighting its reliance on larger datasets to better model relationships. Overall, more training data tends to enhance classifier accuracy, but the extent varies by classifier and dataset. These results align with expectations that more training data generally leads to better classifier performance."
   ]
  },
  {
   "attachments": {},
   "cell_type": "markdown",
   "id": "8548da52",
   "metadata": {},
   "source": [
    "The results reveal a trend where the partition size impacts classifier performance. With the Breast Cancer dataset, Logistic Regression and Random Forest perform better with a more balanced split (50/50), suggesting they benefit from a sufficient amount of data to learn the intricate details. SVM's performance remains relatively lower across partitions, indicating potential issues with feature representation or model complexity.\n",
    "\n",
    "For the Adult and German Credit datasets, the classifiers tend to perform better with more training data (80/20 split), highlighting the importance of ample examples to generalize effectively. However, the performance increase is not drastic, suggesting that after a certain point, additional data provides diminishing returns and that the quality of data and feature engineering may play a more significant role.\n"
   ]
  },
  {
   "cell_type": "code",
   "execution_count": null,
   "id": "e32ebc5d",
   "metadata": {},
   "outputs": [],
   "source": []
  }
 ],
 "metadata": {
  "kernelspec": {
   "display_name": "Python 3 (ipykernel)",
   "language": "python",
   "name": "python3"
  },
  "language_info": {
   "codemirror_mode": {
    "name": "ipython",
    "version": 3
   },
   "file_extension": ".py",
   "mimetype": "text/x-python",
   "name": "python",
   "nbconvert_exporter": "python",
   "pygments_lexer": "ipython3",
   "version": "3.9.5"
  }
 },
 "nbformat": 4,
 "nbformat_minor": 5
}
